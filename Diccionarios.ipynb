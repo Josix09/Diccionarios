{
  "nbformat": 4,
  "nbformat_minor": 0,
  "metadata": {
    "colab": {
      "provenance": [],
      "authorship_tag": "ABX9TyP2QoPBdxiH5c1+csSjV8ts",
      "include_colab_link": true
    },
    "kernelspec": {
      "name": "python3",
      "display_name": "Python 3"
    },
    "language_info": {
      "name": "python"
    }
  },
  "cells": [
    {
      "cell_type": "markdown",
      "metadata": {
        "id": "view-in-github",
        "colab_type": "text"
      },
      "source": [
        "<a href=\"https://colab.research.google.com/github/Josix09/Diccionarios/blob/main/Diccionarios.ipynb\" target=\"_parent\"><img src=\"https://colab.research.google.com/assets/colab-badge.svg\" alt=\"Open In Colab\"/></a>"
      ]
    },
    {
      "cell_type": "markdown",
      "source": [
        "# Diccionarios\n",
        "- son datos estructurados, es decir, hace referencia a una colección de datos.\n",
        "\n",
        "- son una colección desordenadas de pares de datos de a forma clave:valor, conocidos comoelementos o items.\n",
        "\n",
        "- son mutables, por tanto, una vez definido un diccionario se le pueden agregar  nuevos elementos, modificar o eliminar los que ya tiene.\n",
        "\n",
        "- también se es conoce como mapa de hash o arreglos asociativos.\n",
        "\n",
        "- en python los diccionarios son de tipo dict y se utliza la siguiente sintaxis para crear una variable de este tipo:\n",
        "\n",
        "  `nombre_dict = {clave 1:valor1, clave:valor 2,...}`\n",
        "\n",
        "- cada item o elemento tiene la forma clave:valor, en cada item hay una clave y 1 o más valores, si se desconoce el valor se puede llenar con `none`.\n",
        "\n",
        "- los elementos del diccionario se indexan por la clave.\n",
        "- las claves son inmutables.\n",
        "-las clavesno pueden repetirse. dentro de un diccionario.\n"
      ],
      "metadata": {
        "id": "Q3Shpt9ipiZQ"
      }
    },
    {
      "cell_type": "code",
      "execution_count": 8,
      "metadata": {
        "colab": {
          "base_uri": "https://localhost:8080/"
        },
        "id": "C3sk1CqBpVQ-",
        "outputId": "4a6cb56b-d379-4a65-b9e3-46ac8e8e0523"
      },
      "outputs": [
        {
          "output_type": "stream",
          "name": "stdout",
          "text": [
            "{'enero': 1, 'febrero': 2, 'marzo': 3, 'abril': 4, 'mayo': 5, 'junio': 6, 'julio': 7, 'agosto': 8, 'septiembre': 9, 'octubre': 10, 'noviembre': 11, 'diciembre': 12}\n",
            "{1: 'enero', 2: 'febrero', 3: 'marzo', 4: 'abril', 5: 'mayo', 6: 'junio', 7: 'julio', 8: 'agosto', 9: 'septiembre', 10: 'octubre', 11: 'noviembre', 12: 'diciembre'}\n",
            "{'manzana': 34, 'pera': 45, 'uva': 23}\n",
            "{'manzana': 34, 'pera': 45, 'uva': 23, 'cereza': 90}\n",
            "{'manzana': 34, 'pera': 45, 'uva': 23, 'cereza': 100}\n",
            "{'manzana': 34, 'pera': 45, 'uva': 23}\n",
            "el valor de manzana es  34\n"
          ]
        }
      ],
      "source": [
        "\n",
        "#diccionario con clave tipo cadena\n",
        "num_meses={'enero':1,'febrero':2,'marzo':3,'abril':4,'mayo':5,'junio':6,'julio':7,'agosto':8,'septiembre':9,'octubre':10,'noviembre':11,'diciembre':12}\n",
        "\n",
        "print(num_meses)\n",
        "\n",
        "nombre_meses={1:'enero',2:'febrero',3:'marzo',4:'abril',5:'mayo',6:'junio',7:'julio',8:'agosto',9:'septiembre',10:'octubre',11:'noviembre',12:'diciembre'}\n",
        "print(nombre_meses)\n",
        "\n",
        "\n",
        "frutas= {\"manzana\":34,\"pera\":45,\"uva\":23}\n",
        "print(frutas)\n",
        "\n",
        "# agregar elementos\n",
        "\n",
        "frutas[\"cereza\"]=90\n",
        "print(frutas)\n",
        "\n",
        "#modificar un elemento\n",
        "frutas[\"cereza\"]=100\n",
        "print(frutas)\n",
        "\n",
        "#eliminar un elemento\n",
        "del frutas[\"cereza\"]\n",
        "print(frutas)\n",
        "\n",
        "# consultar valor dada una clave\n",
        "print(\"el valor de manzana es \",frutas[\"manzana\"])\n",
        "\n"
      ]
    },
    {
      "cell_type": "code",
      "source": [],
      "metadata": {
        "id": "4t3ycMrdsf8o"
      },
      "execution_count": null,
      "outputs": []
    }
  ]
}